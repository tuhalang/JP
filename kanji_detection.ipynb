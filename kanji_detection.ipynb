{
 "cells": [
  {
   "cell_type": "code",
   "execution_count": null,
   "metadata": {},
   "outputs": [],
   "source": [
    "import os\n",
    "import cv2\n",
    "import numpy as np\n",
    "import matplotlib.pyplot as plt\n",
    "import pandas as pd\n",
    "%matplotlib inline"
   ]
  },
  {
   "cell_type": "code",
   "execution_count": null,
   "metadata": {},
   "outputs": [],
   "source": [
    "import tensorflow as tf\n",
    "import tflearn\n",
    "from tflearn.layers.conv import conv_2d, max_pool_2d\n",
    "from tflearn.layers.core import input_data, dropout, fully_connected\n",
    "from tflearn.layers import regression\n",
    "from tflearn.data_utils import to_categorical"
   ]
  },
  {
   "cell_type": "code",
   "execution_count": null,
   "metadata": {},
   "outputs": [],
   "source": [
    "IMG_SIZE = 50\n",
    "BATCH_SIZE = 256\n",
    "N_CLASSES = 3036\n",
    "LR = 0.001\n",
    "N_EPOCHS = 50"
   ]
  },
  {
   "cell_type": "code",
   "execution_count": null,
   "metadata": {},
   "outputs": [],
   "source": [
    "tf.reset_default_graph()\n",
    "\n",
    "network = input_data(shape=[None, IMG_SIZE, IMG_SIZE, 1]) #1\n",
    "\n",
    "network = conv_2d(network, 32, 3, activation='relu') #2\n",
    "network = max_pool_2d(network, 2) #3\n",
    "\n",
    "network = conv_2d(network, 64, 3, activation='relu')\n",
    "network = max_pool_2d(network, 2)\n",
    "\n",
    "network = conv_2d(network, 32, 3, activation='relu')\n",
    "network = max_pool_2d(network, 2)\n",
    "\n",
    "network = conv_2d(network, 64, 3, activation='relu')\n",
    "network = max_pool_2d(network, 2)\n",
    "\n",
    "network = conv_2d(network, 32, 3, activation='relu')\n",
    "network = max_pool_2d(network, 2)\n",
    "\n",
    "network = conv_2d(network, 64, 3, activation='relu')\n",
    "network = max_pool_2d(network, 2)\n",
    "\n",
    "network = fully_connected(network, 1024, activation='relu') #4\n",
    "network = dropout(network, 0.8) #5\n",
    "\n",
    "network = fully_connected(network, N_CLASSES, activation='softmax')#6\n",
    "network = regression(network)\n",
    "\n",
    "model = tflearn.DNN(network)"
   ]
  },
  {
   "cell_type": "code",
   "execution_count": null,
   "metadata": {},
   "outputs": [],
   "source": [
    "model.load('model_1/kanji_train.tflearn')"
   ]
  },
  {
   "cell_type": "code",
   "execution_count": null,
   "metadata": {},
   "outputs": [],
   "source": [
    "label_text = pd.read_csv('label_map.csv')"
   ]
  },
  {
   "cell_type": "code",
   "execution_count": null,
   "metadata": {},
   "outputs": [],
   "source": [
    "img = cv2.imread('test_model/test_4.png',cv2.IMREAD_GRAYSCALE)\n",
    "(thresh, img) = cv2.threshold(img, 128, 255, cv2.THRESH_BINARY | cv2.THRESH_OTSU)\n",
    "plt.imshow(img)\n",
    "\n",
    "h, w = img.shape\n",
    "\n",
    "img = cv2.resize(img, (50,50))\n",
    "plt.imshow(img)\n",
    "\n",
    "img = img.reshape(-1, IMG_SIZE, IMG_SIZE, 1)\n",
    "result = model.predict(img)\n",
    "result = np.argmax(result, axis=-1)\n",
    "print(result, label_text['text'][result[0]])"
   ]
  },
  {
   "cell_type": "code",
   "execution_count": null,
   "metadata": {},
   "outputs": [],
   "source": []
  },
  {
   "cell_type": "code",
   "execution_count": null,
   "metadata": {},
   "outputs": [],
   "source": [
    "#image = cv2.imread(\"test_model/so.png\")\n",
    "#h,w,c = image.shape\n",
    "#print(image)\n",
    "#for i in range(h):\n",
    "#    for y in range(w):\n",
    "#        for z in range(c):\n",
    "#            if image[i][y][z] > 200:\n",
    "#                image[i][y][z] = 255\n",
    "#            else:\n",
    "#                image[i][y][z] = 0\n",
    "#im_gray = cv2.cvtColor(image,cv2.COLOR_BGR2GRAY)\n",
    "#im_blur = cv2.GaussianBlur(im_gray,(5,5),0)\n",
    "#im,thre = cv2.threshold(im_blur,90,255,cv2.THRESH_BINARY_INV)\n",
    "#contours,hierachy = cv2.findContours(thre,cv2.RETR_EXTERNAL,cv2.CHAIN_APPROX_SIMPLE)\n",
    "#rects = [cv2.boundingRect(cnt) for cnt in contours]\n",
    "#%matplotlib inline\n",
    "#import matplotlib.pyplot as plt\n",
    "#plt.imshow(image)\n",
    "#rects"
   ]
  },
  {
   "cell_type": "code",
   "execution_count": null,
   "metadata": {},
   "outputs": [],
   "source": []
  }
 ],
 "metadata": {
  "kernelspec": {
   "display_name": "Python 3",
   "language": "python",
   "name": "python3"
  },
  "language_info": {
   "codemirror_mode": {
    "name": "ipython",
    "version": 3
   },
   "file_extension": ".py",
   "mimetype": "text/x-python",
   "name": "python",
   "nbconvert_exporter": "python",
   "pygments_lexer": "ipython3",
   "version": "3.6.7"
  }
 },
 "nbformat": 4,
 "nbformat_minor": 2
}
