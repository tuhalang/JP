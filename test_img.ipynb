{
 "cells": [
  {
   "cell_type": "code",
   "execution_count": 1,
   "metadata": {},
   "outputs": [
    {
     "name": "stderr",
     "output_type": "stream",
     "text": [
      "Using TensorFlow backend.\n"
     ]
    }
   ],
   "source": [
    "import cv2\n",
    "import numpy as np\n",
    "from skimage.feature import hog\n",
    "from sklearn.svm import LinearSVC\n",
    "from keras.datasets import mnist\n",
    "from sklearn.metrics import accuracy_score\n",
    "#load data\n",
    "(X_train,y_train),(X_test,y_test) = mnist.load_data()"
   ]
  },
  {
   "cell_type": "code",
   "execution_count": 2,
   "metadata": {},
   "outputs": [],
   "source": [
    "#cho x_train\n",
    "X_train_feature = []\n",
    "for i in range(len(X_train)):\n",
    "    feature = hog(X_train[i],orientations=9,pixels_per_cell=(14,14),cells_per_block=(1,1),block_norm=\"L2\")\n",
    "    X_train_feature.append(feature)\n",
    "X_train_feature = np.array(X_train_feature,dtype = np.float32)\n",
    "\n",
    "#cho x_test\n",
    "X_test_feature = []\n",
    "for i in range(len(X_test)):\n",
    "    feature = hog(X_test[i],orientations=9,pixels_per_cell=(14,14),cells_per_block=(1,1),block_norm=\"L2\")\n",
    "    X_test_feature.append(feature)\n",
    "X_test_feature = np.array(X_test_feature,dtype=np.float32)"
   ]
  },
  {
   "cell_type": "code",
   "execution_count": 3,
   "metadata": {},
   "outputs": [
    {
     "name": "stdout",
     "output_type": "stream",
     "text": [
      "0.8988\n"
     ]
    },
    {
     "name": "stderr",
     "output_type": "stream",
     "text": [
      "/home/hungdh/vba/lib/python3.6/site-packages/sklearn/svm/base.py:931: ConvergenceWarning: Liblinear failed to converge, increase the number of iterations.\n",
      "  \"the number of iterations.\", ConvergenceWarning)\n"
     ]
    }
   ],
   "source": [
    "model = LinearSVC(C=10)\n",
    "model.fit(X_train_feature,y_train)\n",
    "y_pre = model.predict(X_test_feature)\n",
    "print(accuracy_score(y_test,y_pre))"
   ]
  },
  {
   "cell_type": "code",
   "execution_count": 4,
   "metadata": {},
   "outputs": [
    {
     "data": {
      "text/plain": [
       "[(31, 97, 17, 30)]"
      ]
     },
     "execution_count": 4,
     "metadata": {},
     "output_type": "execute_result"
    }
   ],
   "source": [
    "image = cv2.imread(\"test_model/so.png\")\n",
    "im_gray = cv2.cvtColor(image,cv2.COLOR_BGR2GRAY)\n",
    "im_blur = cv2.GaussianBlur(im_gray,(5,5),0)\n",
    "im,thre = cv2.threshold(im_blur,90,255,cv2.THRESH_BINARY_INV)\n",
    "contours,hierachy = cv2.findContours(thre,cv2.RETR_EXTERNAL,cv2.CHAIN_APPROX_SIMPLE)\n",
    "rects = [cv2.boundingRect(cnt) for cnt in contours]\n",
    "rects"
   ]
  },
  {
   "cell_type": "code",
   "execution_count": null,
   "metadata": {},
   "outputs": [],
   "source": [
    "for i in contours:\n",
    "    (x,y,w,h) = cv2.boundingRect(i)\n",
    "    cv2.rectangle(image,(x,y),(x+w,y+h),(0,255,0),3)\n",
    "    roi = thre[y:y+h,x:x+w]\n",
    "    roi = np.pad(roi,(20,20),'constant',constant_values=(0,0))\n",
    "    roi = cv2.resize(roi, (28, 28), interpolation=cv2.INTER_AREA)\n",
    "    roi = cv2.dilate(roi, (3, 3))\n",
    "    \n",
    "    # Calculate the HOG features\n",
    "    roi_hog_fd = hog(roi, orientations=9, pixels_per_cell=(14, 14), cells_per_block=(1, 1),block_norm=\"L2\")\n",
    "    nbr = model.predict(np.array([roi_hog_fd], np.float32))\n",
    "    cv2.putText(image, str(int(nbr[0])), (x, y),cv2.FONT_HERSHEY_DUPLEX, 2, (0, 255, 255), 3)\n",
    "    cv2.imshow(\"image\",image)\n",
    "cv2.imwrite(\"image_pand.jpg\",image)\n",
    "if cv2.waitKey(1) == ord('q'):\n",
    "    print(a)\n",
    "cv2.destroyAllWindows()"
   ]
  },
  {
   "cell_type": "code",
   "execution_count": null,
   "metadata": {},
   "outputs": [],
   "source": []
  }
 ],
 "metadata": {
  "kernelspec": {
   "display_name": "Python 3",
   "language": "python",
   "name": "python3"
  },
  "language_info": {
   "codemirror_mode": {
    "name": "ipython",
    "version": 3
   },
   "file_extension": ".py",
   "mimetype": "text/x-python",
   "name": "python",
   "nbconvert_exporter": "python",
   "pygments_lexer": "ipython3",
   "version": "3.6.7"
  }
 },
 "nbformat": 4,
 "nbformat_minor": 2
}
