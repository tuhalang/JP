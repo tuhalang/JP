{
 "cells": [
  {
   "cell_type": "code",
   "execution_count": 1,
   "metadata": {
    "scrolled": true
   },
   "outputs": [],
   "source": [
    "\n",
    "import cv2\n",
    "import numpy as np\n",
    "import sys\n",
    "import matplotlib.pyplot as plt\n",
    "\n",
    "def onTrackbarChange(max_slider):\n",
    "    global img\n",
    "    global dst\n",
    "    global gray\n",
    "\n",
    "    dst = np.copy(img)\n",
    "\n",
    "    th1 = max_slider \n",
    "    th2 = th1 * 0.4\n",
    "    edges = cv2.Canny(img, th1, th2)\n",
    "\n",
    "    # Apply probabilistic hough line transform\n",
    "    lines = cv2.HoughLinesP(edges, 2, np.pi/180.0, 200, minLineLength=10, maxLineGap=100)\n",
    "\n",
    "    # Draw lines on the detected points\n",
    "    for line in lines:\n",
    "        x1, y1, x2, y2 = line[0]\n",
    "        cv2.line(dst, (x1, y1), (x2, y2), (0,0,255), 1)\n",
    "\n",
    "    #cv2.imshow(\"Result Image\", dst)\n",
    "    #cv2.imshow(\"Edges\",edges)\n",
    "    #cv2.waitKey(0)\n",
    "    plt.imshow(dst)\n",
    "\n",
    "\n",
    "if __name__ == \"__main__\":\n",
    "\n",
    "    # Read image\n",
    "    img = cv2.imread('img.jpg')\n",
    "\n",
    "    # Create a copy for later usage\n",
    "    dst = np.copy(img)\n",
    "\n",
    "    # Convert image to gray\n",
    "    gray = cv2.cvtColor(img, cv2.COLOR_BGR2GRAY)\n",
    "\n",
    "    # Create display windows\n",
    "    #cv2.namedWindow(\"Edges\")\n",
    "    cv2.namedWindow(\"Result Image\")\n",
    "\n",
    "\n",
    "    # Initialize threshold value\n",
    "    initThresh = 500\n",
    "\n",
    "    # Maximum threshold value\n",
    "    maxThresh = 1000\n",
    "\n",
    "    cv2.createTrackbar(\"threshold\", \"Result Image\", initThresh, maxThresh, onTrackbarChange)\n",
    "    onTrackbarChange(initThresh)\n",
    "    "
   ]
  },
  {
   "cell_type": "code",
   "execution_count": null,
   "metadata": {},
   "outputs": [],
   "source": []
  },
  {
   "cell_type": "code",
   "execution_count": null,
   "metadata": {},
   "outputs": [],
   "source": []
  }
 ],
 "metadata": {
  "kernelspec": {
   "display_name": "Python 3",
   "language": "python",
   "name": "python3"
  },
  "language_info": {
   "codemirror_mode": {
    "name": "ipython",
    "version": 3
   },
   "file_extension": ".py",
   "mimetype": "text/x-python",
   "name": "python",
   "nbconvert_exporter": "python",
   "pygments_lexer": "ipython3",
   "version": "3.5.2"
  }
 },
 "nbformat": 4,
 "nbformat_minor": 2
}
